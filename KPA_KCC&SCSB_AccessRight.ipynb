{
  "nbformat": 4,
  "nbformat_minor": 0,
  "metadata": {
    "colab": {
      "provenance": [],
      "mount_file_id": "1dqDuIgEhAtV0UwCOi4SnBY6kAEgWiex4",
      "authorship_tag": "ABX9TyNo3XlB1poF72PyhcACcRii",
      "include_colab_link": true
    },
    "kernelspec": {
      "name": "python3",
      "display_name": "Python 3"
    },
    "language_info": {
      "name": "python"
    }
  },
  "cells": [
    {
      "cell_type": "markdown",
      "metadata": {
        "id": "view-in-github",
        "colab_type": "text"
      },
      "source": [
        "<a href=\"https://colab.research.google.com/github/YYL1129/System-Access-Right/blob/main/KPA_KCC%26SCSB_AccessRight.ipynb\" target=\"_parent\"><img src=\"https://colab.research.google.com/assets/colab-badge.svg\" alt=\"Open In Colab\"/></a>"
      ]
    },
    {
      "cell_type": "code",
      "execution_count": 16,
      "metadata": {
        "id": "D4Lps4yO4ABW"
      },
      "outputs": [],
      "source": [
        "import pandas as pd\n"
      ]
    },
    {
      "cell_type": "code",
      "source": [
        "from google.colab import drive\n",
        "drive.mount('/content/drive')"
      ],
      "metadata": {
        "colab": {
          "base_uri": "https://localhost:8080/"
        },
        "id": "gNdQmQMh4CH2",
        "outputId": "6cd6ac2d-9ae9-4880-dac0-f069b8ce8d5d"
      },
      "execution_count": 17,
      "outputs": [
        {
          "output_type": "stream",
          "name": "stdout",
          "text": [
            "Drive already mounted at /content/drive; to attempt to forcibly remount, call drive.mount(\"/content/drive\", force_remount=True).\n"
          ]
        }
      ]
    },
    {
      "cell_type": "code",
      "source": [
        "df = pd.read_csv(\"/content/drive/MyDrive/ylyee/UserGroupListing.csv\")"
      ],
      "metadata": {
        "id": "aGlpLmwe4PKu"
      },
      "execution_count": 18,
      "outputs": []
    },
    {
      "cell_type": "code",
      "source": [
        "df"
      ],
      "metadata": {
        "colab": {
          "base_uri": "https://localhost:8080/",
          "height": 424
        },
        "id": "EjspXkv74j_0",
        "outputId": "899741b4-8525-4f4c-ce63-f6b37477f0e5"
      },
      "execution_count": 19,
      "outputs": [
        {
          "output_type": "execute_result",
          "data": {
            "text/plain": [
              "     AuthorizationGroupName                          pageName  Add Edit  \\\n",
              "0                Data Entry                      Transactions  NaN  NaN   \n",
              "1                Data Entry                         Enquiries  NaN  NaN   \n",
              "2                Data Entry                        Reportings  NaN  NaN   \n",
              "3                Data Entry          Budget & Report template  NaN  NaN   \n",
              "4                Data Entry                        Statistics  NaN  NaN   \n",
              "...                     ...                               ...  ...  ...   \n",
              "5671                  RRMHW  Intercompany Interest Generation  NaN  NaN   \n",
              "5672                  RRMHW                     Account Group  NaN  NaN   \n",
              "5673                  RRMHW          Advanced Program Setting  NaN  NaN   \n",
              "5674                  RRMHW          PS Sub Type Access Right  NaN  NaN   \n",
              "5675                  RRMHW    User Email Setting AccessRight  NaN  NaN   \n",
              "\n",
              "     Delete Browse  \n",
              "0       NaN    NaN  \n",
              "1       NaN    NaN  \n",
              "2       NaN    NaN  \n",
              "3       NaN    NaN  \n",
              "4       NaN    NaN  \n",
              "...     ...    ...  \n",
              "5671    NaN    NaN  \n",
              "5672    NaN    NaN  \n",
              "5673    NaN    NaN  \n",
              "5674    NaN    NaN  \n",
              "5675    NaN    NaN  \n",
              "\n",
              "[5676 rows x 6 columns]"
            ],
            "text/html": [
              "\n",
              "  <div id=\"df-8ef3a0b4-9f55-43a7-9d41-16f9f661983b\" class=\"colab-df-container\">\n",
              "    <div>\n",
              "<style scoped>\n",
              "    .dataframe tbody tr th:only-of-type {\n",
              "        vertical-align: middle;\n",
              "    }\n",
              "\n",
              "    .dataframe tbody tr th {\n",
              "        vertical-align: top;\n",
              "    }\n",
              "\n",
              "    .dataframe thead th {\n",
              "        text-align: right;\n",
              "    }\n",
              "</style>\n",
              "<table border=\"1\" class=\"dataframe\">\n",
              "  <thead>\n",
              "    <tr style=\"text-align: right;\">\n",
              "      <th></th>\n",
              "      <th>AuthorizationGroupName</th>\n",
              "      <th>pageName</th>\n",
              "      <th>Add</th>\n",
              "      <th>Edit</th>\n",
              "      <th>Delete</th>\n",
              "      <th>Browse</th>\n",
              "    </tr>\n",
              "  </thead>\n",
              "  <tbody>\n",
              "    <tr>\n",
              "      <th>0</th>\n",
              "      <td>Data Entry</td>\n",
              "      <td>Transactions</td>\n",
              "      <td>NaN</td>\n",
              "      <td>NaN</td>\n",
              "      <td>NaN</td>\n",
              "      <td>NaN</td>\n",
              "    </tr>\n",
              "    <tr>\n",
              "      <th>1</th>\n",
              "      <td>Data Entry</td>\n",
              "      <td>Enquiries</td>\n",
              "      <td>NaN</td>\n",
              "      <td>NaN</td>\n",
              "      <td>NaN</td>\n",
              "      <td>NaN</td>\n",
              "    </tr>\n",
              "    <tr>\n",
              "      <th>2</th>\n",
              "      <td>Data Entry</td>\n",
              "      <td>Reportings</td>\n",
              "      <td>NaN</td>\n",
              "      <td>NaN</td>\n",
              "      <td>NaN</td>\n",
              "      <td>NaN</td>\n",
              "    </tr>\n",
              "    <tr>\n",
              "      <th>3</th>\n",
              "      <td>Data Entry</td>\n",
              "      <td>Budget &amp; Report template</td>\n",
              "      <td>NaN</td>\n",
              "      <td>NaN</td>\n",
              "      <td>NaN</td>\n",
              "      <td>NaN</td>\n",
              "    </tr>\n",
              "    <tr>\n",
              "      <th>4</th>\n",
              "      <td>Data Entry</td>\n",
              "      <td>Statistics</td>\n",
              "      <td>NaN</td>\n",
              "      <td>NaN</td>\n",
              "      <td>NaN</td>\n",
              "      <td>NaN</td>\n",
              "    </tr>\n",
              "    <tr>\n",
              "      <th>...</th>\n",
              "      <td>...</td>\n",
              "      <td>...</td>\n",
              "      <td>...</td>\n",
              "      <td>...</td>\n",
              "      <td>...</td>\n",
              "      <td>...</td>\n",
              "    </tr>\n",
              "    <tr>\n",
              "      <th>5671</th>\n",
              "      <td>RRMHW</td>\n",
              "      <td>Intercompany Interest Generation</td>\n",
              "      <td>NaN</td>\n",
              "      <td>NaN</td>\n",
              "      <td>NaN</td>\n",
              "      <td>NaN</td>\n",
              "    </tr>\n",
              "    <tr>\n",
              "      <th>5672</th>\n",
              "      <td>RRMHW</td>\n",
              "      <td>Account Group</td>\n",
              "      <td>NaN</td>\n",
              "      <td>NaN</td>\n",
              "      <td>NaN</td>\n",
              "      <td>NaN</td>\n",
              "    </tr>\n",
              "    <tr>\n",
              "      <th>5673</th>\n",
              "      <td>RRMHW</td>\n",
              "      <td>Advanced Program Setting</td>\n",
              "      <td>NaN</td>\n",
              "      <td>NaN</td>\n",
              "      <td>NaN</td>\n",
              "      <td>NaN</td>\n",
              "    </tr>\n",
              "    <tr>\n",
              "      <th>5674</th>\n",
              "      <td>RRMHW</td>\n",
              "      <td>PS Sub Type Access Right</td>\n",
              "      <td>NaN</td>\n",
              "      <td>NaN</td>\n",
              "      <td>NaN</td>\n",
              "      <td>NaN</td>\n",
              "    </tr>\n",
              "    <tr>\n",
              "      <th>5675</th>\n",
              "      <td>RRMHW</td>\n",
              "      <td>User Email Setting AccessRight</td>\n",
              "      <td>NaN</td>\n",
              "      <td>NaN</td>\n",
              "      <td>NaN</td>\n",
              "      <td>NaN</td>\n",
              "    </tr>\n",
              "  </tbody>\n",
              "</table>\n",
              "<p>5676 rows × 6 columns</p>\n",
              "</div>\n",
              "    <div class=\"colab-df-buttons\">\n",
              "\n",
              "  <div class=\"colab-df-container\">\n",
              "    <button class=\"colab-df-convert\" onclick=\"convertToInteractive('df-8ef3a0b4-9f55-43a7-9d41-16f9f661983b')\"\n",
              "            title=\"Convert this dataframe to an interactive table.\"\n",
              "            style=\"display:none;\">\n",
              "\n",
              "  <svg xmlns=\"http://www.w3.org/2000/svg\" height=\"24px\" viewBox=\"0 -960 960 960\">\n",
              "    <path d=\"M120-120v-720h720v720H120Zm60-500h600v-160H180v160Zm220 220h160v-160H400v160Zm0 220h160v-160H400v160ZM180-400h160v-160H180v160Zm440 0h160v-160H620v160ZM180-180h160v-160H180v160Zm440 0h160v-160H620v160Z\"/>\n",
              "  </svg>\n",
              "    </button>\n",
              "\n",
              "  <style>\n",
              "    .colab-df-container {\n",
              "      display:flex;\n",
              "      gap: 12px;\n",
              "    }\n",
              "\n",
              "    .colab-df-convert {\n",
              "      background-color: #E8F0FE;\n",
              "      border: none;\n",
              "      border-radius: 50%;\n",
              "      cursor: pointer;\n",
              "      display: none;\n",
              "      fill: #1967D2;\n",
              "      height: 32px;\n",
              "      padding: 0 0 0 0;\n",
              "      width: 32px;\n",
              "    }\n",
              "\n",
              "    .colab-df-convert:hover {\n",
              "      background-color: #E2EBFA;\n",
              "      box-shadow: 0px 1px 2px rgba(60, 64, 67, 0.3), 0px 1px 3px 1px rgba(60, 64, 67, 0.15);\n",
              "      fill: #174EA6;\n",
              "    }\n",
              "\n",
              "    .colab-df-buttons div {\n",
              "      margin-bottom: 4px;\n",
              "    }\n",
              "\n",
              "    [theme=dark] .colab-df-convert {\n",
              "      background-color: #3B4455;\n",
              "      fill: #D2E3FC;\n",
              "    }\n",
              "\n",
              "    [theme=dark] .colab-df-convert:hover {\n",
              "      background-color: #434B5C;\n",
              "      box-shadow: 0px 1px 3px 1px rgba(0, 0, 0, 0.15);\n",
              "      filter: drop-shadow(0px 1px 2px rgba(0, 0, 0, 0.3));\n",
              "      fill: #FFFFFF;\n",
              "    }\n",
              "  </style>\n",
              "\n",
              "    <script>\n",
              "      const buttonEl =\n",
              "        document.querySelector('#df-8ef3a0b4-9f55-43a7-9d41-16f9f661983b button.colab-df-convert');\n",
              "      buttonEl.style.display =\n",
              "        google.colab.kernel.accessAllowed ? 'block' : 'none';\n",
              "\n",
              "      async function convertToInteractive(key) {\n",
              "        const element = document.querySelector('#df-8ef3a0b4-9f55-43a7-9d41-16f9f661983b');\n",
              "        const dataTable =\n",
              "          await google.colab.kernel.invokeFunction('convertToInteractive',\n",
              "                                                    [key], {});\n",
              "        if (!dataTable) return;\n",
              "\n",
              "        const docLinkHtml = 'Like what you see? Visit the ' +\n",
              "          '<a target=\"_blank\" href=https://colab.research.google.com/notebooks/data_table.ipynb>data table notebook</a>'\n",
              "          + ' to learn more about interactive tables.';\n",
              "        element.innerHTML = '';\n",
              "        dataTable['output_type'] = 'display_data';\n",
              "        await google.colab.output.renderOutput(dataTable, element);\n",
              "        const docLink = document.createElement('div');\n",
              "        docLink.innerHTML = docLinkHtml;\n",
              "        element.appendChild(docLink);\n",
              "      }\n",
              "    </script>\n",
              "  </div>\n",
              "\n",
              "\n",
              "<div id=\"df-f791663a-97f4-43d5-bc81-ed85e7e829b2\">\n",
              "  <button class=\"colab-df-quickchart\" onclick=\"quickchart('df-f791663a-97f4-43d5-bc81-ed85e7e829b2')\"\n",
              "            title=\"Suggest charts\"\n",
              "            style=\"display:none;\">\n",
              "\n",
              "<svg xmlns=\"http://www.w3.org/2000/svg\" height=\"24px\"viewBox=\"0 0 24 24\"\n",
              "     width=\"24px\">\n",
              "    <g>\n",
              "        <path d=\"M19 3H5c-1.1 0-2 .9-2 2v14c0 1.1.9 2 2 2h14c1.1 0 2-.9 2-2V5c0-1.1-.9-2-2-2zM9 17H7v-7h2v7zm4 0h-2V7h2v10zm4 0h-2v-4h2v4z\"/>\n",
              "    </g>\n",
              "</svg>\n",
              "  </button>\n",
              "\n",
              "<style>\n",
              "  .colab-df-quickchart {\n",
              "      --bg-color: #E8F0FE;\n",
              "      --fill-color: #1967D2;\n",
              "      --hover-bg-color: #E2EBFA;\n",
              "      --hover-fill-color: #174EA6;\n",
              "      --disabled-fill-color: #AAA;\n",
              "      --disabled-bg-color: #DDD;\n",
              "  }\n",
              "\n",
              "  [theme=dark] .colab-df-quickchart {\n",
              "      --bg-color: #3B4455;\n",
              "      --fill-color: #D2E3FC;\n",
              "      --hover-bg-color: #434B5C;\n",
              "      --hover-fill-color: #FFFFFF;\n",
              "      --disabled-bg-color: #3B4455;\n",
              "      --disabled-fill-color: #666;\n",
              "  }\n",
              "\n",
              "  .colab-df-quickchart {\n",
              "    background-color: var(--bg-color);\n",
              "    border: none;\n",
              "    border-radius: 50%;\n",
              "    cursor: pointer;\n",
              "    display: none;\n",
              "    fill: var(--fill-color);\n",
              "    height: 32px;\n",
              "    padding: 0;\n",
              "    width: 32px;\n",
              "  }\n",
              "\n",
              "  .colab-df-quickchart:hover {\n",
              "    background-color: var(--hover-bg-color);\n",
              "    box-shadow: 0 1px 2px rgba(60, 64, 67, 0.3), 0 1px 3px 1px rgba(60, 64, 67, 0.15);\n",
              "    fill: var(--button-hover-fill-color);\n",
              "  }\n",
              "\n",
              "  .colab-df-quickchart-complete:disabled,\n",
              "  .colab-df-quickchart-complete:disabled:hover {\n",
              "    background-color: var(--disabled-bg-color);\n",
              "    fill: var(--disabled-fill-color);\n",
              "    box-shadow: none;\n",
              "  }\n",
              "\n",
              "  .colab-df-spinner {\n",
              "    border: 2px solid var(--fill-color);\n",
              "    border-color: transparent;\n",
              "    border-bottom-color: var(--fill-color);\n",
              "    animation:\n",
              "      spin 1s steps(1) infinite;\n",
              "  }\n",
              "\n",
              "  @keyframes spin {\n",
              "    0% {\n",
              "      border-color: transparent;\n",
              "      border-bottom-color: var(--fill-color);\n",
              "      border-left-color: var(--fill-color);\n",
              "    }\n",
              "    20% {\n",
              "      border-color: transparent;\n",
              "      border-left-color: var(--fill-color);\n",
              "      border-top-color: var(--fill-color);\n",
              "    }\n",
              "    30% {\n",
              "      border-color: transparent;\n",
              "      border-left-color: var(--fill-color);\n",
              "      border-top-color: var(--fill-color);\n",
              "      border-right-color: var(--fill-color);\n",
              "    }\n",
              "    40% {\n",
              "      border-color: transparent;\n",
              "      border-right-color: var(--fill-color);\n",
              "      border-top-color: var(--fill-color);\n",
              "    }\n",
              "    60% {\n",
              "      border-color: transparent;\n",
              "      border-right-color: var(--fill-color);\n",
              "    }\n",
              "    80% {\n",
              "      border-color: transparent;\n",
              "      border-right-color: var(--fill-color);\n",
              "      border-bottom-color: var(--fill-color);\n",
              "    }\n",
              "    90% {\n",
              "      border-color: transparent;\n",
              "      border-bottom-color: var(--fill-color);\n",
              "    }\n",
              "  }\n",
              "</style>\n",
              "\n",
              "  <script>\n",
              "    async function quickchart(key) {\n",
              "      const quickchartButtonEl =\n",
              "        document.querySelector('#' + key + ' button');\n",
              "      quickchartButtonEl.disabled = true;  // To prevent multiple clicks.\n",
              "      quickchartButtonEl.classList.add('colab-df-spinner');\n",
              "      try {\n",
              "        const charts = await google.colab.kernel.invokeFunction(\n",
              "            'suggestCharts', [key], {});\n",
              "      } catch (error) {\n",
              "        console.error('Error during call to suggestCharts:', error);\n",
              "      }\n",
              "      quickchartButtonEl.classList.remove('colab-df-spinner');\n",
              "      quickchartButtonEl.classList.add('colab-df-quickchart-complete');\n",
              "    }\n",
              "    (() => {\n",
              "      let quickchartButtonEl =\n",
              "        document.querySelector('#df-f791663a-97f4-43d5-bc81-ed85e7e829b2 button');\n",
              "      quickchartButtonEl.style.display =\n",
              "        google.colab.kernel.accessAllowed ? 'block' : 'none';\n",
              "    })();\n",
              "  </script>\n",
              "</div>\n",
              "\n",
              "  <div id=\"id_9e741ae9-36a9-4c7f-b025-2f0d1a058997\">\n",
              "    <style>\n",
              "      .colab-df-generate {\n",
              "        background-color: #E8F0FE;\n",
              "        border: none;\n",
              "        border-radius: 50%;\n",
              "        cursor: pointer;\n",
              "        display: none;\n",
              "        fill: #1967D2;\n",
              "        height: 32px;\n",
              "        padding: 0 0 0 0;\n",
              "        width: 32px;\n",
              "      }\n",
              "\n",
              "      .colab-df-generate:hover {\n",
              "        background-color: #E2EBFA;\n",
              "        box-shadow: 0px 1px 2px rgba(60, 64, 67, 0.3), 0px 1px 3px 1px rgba(60, 64, 67, 0.15);\n",
              "        fill: #174EA6;\n",
              "      }\n",
              "\n",
              "      [theme=dark] .colab-df-generate {\n",
              "        background-color: #3B4455;\n",
              "        fill: #D2E3FC;\n",
              "      }\n",
              "\n",
              "      [theme=dark] .colab-df-generate:hover {\n",
              "        background-color: #434B5C;\n",
              "        box-shadow: 0px 1px 3px 1px rgba(0, 0, 0, 0.15);\n",
              "        filter: drop-shadow(0px 1px 2px rgba(0, 0, 0, 0.3));\n",
              "        fill: #FFFFFF;\n",
              "      }\n",
              "    </style>\n",
              "    <button class=\"colab-df-generate\" onclick=\"generateWithVariable('df')\"\n",
              "            title=\"Generate code using this dataframe.\"\n",
              "            style=\"display:none;\">\n",
              "\n",
              "  <svg xmlns=\"http://www.w3.org/2000/svg\" height=\"24px\"viewBox=\"0 0 24 24\"\n",
              "       width=\"24px\">\n",
              "    <path d=\"M7,19H8.4L18.45,9,17,7.55,7,17.6ZM5,21V16.75L18.45,3.32a2,2,0,0,1,2.83,0l1.4,1.43a1.91,1.91,0,0,1,.58,1.4,1.91,1.91,0,0,1-.58,1.4L9.25,21ZM18.45,9,17,7.55Zm-12,3A5.31,5.31,0,0,0,4.9,8.1,5.31,5.31,0,0,0,1,6.5,5.31,5.31,0,0,0,4.9,4.9,5.31,5.31,0,0,0,6.5,1,5.31,5.31,0,0,0,8.1,4.9,5.31,5.31,0,0,0,12,6.5,5.46,5.46,0,0,0,6.5,12Z\"/>\n",
              "  </svg>\n",
              "    </button>\n",
              "    <script>\n",
              "      (() => {\n",
              "      const buttonEl =\n",
              "        document.querySelector('#id_9e741ae9-36a9-4c7f-b025-2f0d1a058997 button.colab-df-generate');\n",
              "      buttonEl.style.display =\n",
              "        google.colab.kernel.accessAllowed ? 'block' : 'none';\n",
              "\n",
              "      buttonEl.onclick = () => {\n",
              "        google.colab.notebook.generateWithVariable('df');\n",
              "      }\n",
              "      })();\n",
              "    </script>\n",
              "  </div>\n",
              "\n",
              "    </div>\n",
              "  </div>\n"
            ],
            "application/vnd.google.colaboratory.intrinsic+json": {
              "type": "dataframe",
              "variable_name": "df",
              "summary": "{\n  \"name\": \"df\",\n  \"rows\": 5676,\n  \"fields\": [\n    {\n      \"column\": \"AuthorizationGroupName\",\n      \"properties\": {\n        \"dtype\": \"category\",\n        \"num_unique_values\": 12,\n        \"samples\": [\n          \"MHW\",\n          \"Manager (S)\",\n          \"Data Entry\"\n        ],\n        \"semantic_type\": \"\",\n        \"description\": \"\"\n      }\n    },\n    {\n      \"column\": \"pageName\",\n      \"properties\": {\n        \"dtype\": \"category\",\n        \"num_unique_values\": 402,\n        \"samples\": [\n          \"FIXED ASSETS\",\n          \"Store Issue\",\n          \"Transaction Posting\"\n        ],\n        \"semantic_type\": \"\",\n        \"description\": \"\"\n      }\n    },\n    {\n      \"column\": \"Add\",\n      \"properties\": {\n        \"dtype\": \"category\",\n        \"num_unique_values\": 1,\n        \"samples\": [\n          \"X\"\n        ],\n        \"semantic_type\": \"\",\n        \"description\": \"\"\n      }\n    },\n    {\n      \"column\": \"Edit\",\n      \"properties\": {\n        \"dtype\": \"category\",\n        \"num_unique_values\": 1,\n        \"samples\": [\n          \"X\"\n        ],\n        \"semantic_type\": \"\",\n        \"description\": \"\"\n      }\n    },\n    {\n      \"column\": \"Delete\",\n      \"properties\": {\n        \"dtype\": \"category\",\n        \"num_unique_values\": 1,\n        \"samples\": [\n          \"X\"\n        ],\n        \"semantic_type\": \"\",\n        \"description\": \"\"\n      }\n    },\n    {\n      \"column\": \"Browse\",\n      \"properties\": {\n        \"dtype\": \"category\",\n        \"num_unique_values\": 1,\n        \"samples\": [\n          \"X\"\n        ],\n        \"semantic_type\": \"\",\n        \"description\": \"\"\n      }\n    }\n  ]\n}"
            }
          },
          "metadata": {},
          "execution_count": 19
        }
      ]
    },
    {
      "cell_type": "code",
      "source": [
        "df.dropna()"
      ],
      "metadata": {
        "colab": {
          "base_uri": "https://localhost:8080/",
          "height": 424
        },
        "id": "J6Zc-Nrr-qaz",
        "outputId": "acda92eb-7b78-4220-c007-ad503089d1ca"
      },
      "execution_count": 20,
      "outputs": [
        {
          "output_type": "execute_result",
          "data": {
            "text/plain": [
              "     AuthorizationGroupName                             pageName Add Edit  \\\n",
              "239              Data Entry                    Purchases Request   X    X   \n",
              "244              Data Entry                Goods Received Return   X    X   \n",
              "245              Data Entry                  Supplier Debit Note   X    X   \n",
              "633                Director                    Month End Closing   X    X   \n",
              "636                Director                   Management Reports   X    X   \n",
              "...                     ...                                  ...  ..  ...   \n",
              "5645                  RRMHW  User Defined Ex Column Assign Value   X    X   \n",
              "5647                  RRMHW                        Layout Master   X    X   \n",
              "5648                  RRMHW                 Layout Extra Columns   X    X   \n",
              "5649                  RRMHW            Layout Extra Column Value   X    X   \n",
              "5650                  RRMHW    Layout Extra Column Assign Values   X    X   \n",
              "\n",
              "     Delete Browse  \n",
              "239       X      X  \n",
              "244       X      X  \n",
              "245       X      X  \n",
              "633       X      X  \n",
              "636       X      X  \n",
              "...     ...    ...  \n",
              "5645      X      X  \n",
              "5647      X      X  \n",
              "5648      X      X  \n",
              "5649      X      X  \n",
              "5650      X      X  \n",
              "\n",
              "[910 rows x 6 columns]"
            ],
            "text/html": [
              "\n",
              "  <div id=\"df-a035dc21-1d42-4844-a7d7-ac9103cf42c6\" class=\"colab-df-container\">\n",
              "    <div>\n",
              "<style scoped>\n",
              "    .dataframe tbody tr th:only-of-type {\n",
              "        vertical-align: middle;\n",
              "    }\n",
              "\n",
              "    .dataframe tbody tr th {\n",
              "        vertical-align: top;\n",
              "    }\n",
              "\n",
              "    .dataframe thead th {\n",
              "        text-align: right;\n",
              "    }\n",
              "</style>\n",
              "<table border=\"1\" class=\"dataframe\">\n",
              "  <thead>\n",
              "    <tr style=\"text-align: right;\">\n",
              "      <th></th>\n",
              "      <th>AuthorizationGroupName</th>\n",
              "      <th>pageName</th>\n",
              "      <th>Add</th>\n",
              "      <th>Edit</th>\n",
              "      <th>Delete</th>\n",
              "      <th>Browse</th>\n",
              "    </tr>\n",
              "  </thead>\n",
              "  <tbody>\n",
              "    <tr>\n",
              "      <th>239</th>\n",
              "      <td>Data Entry</td>\n",
              "      <td>Purchases Request</td>\n",
              "      <td>X</td>\n",
              "      <td>X</td>\n",
              "      <td>X</td>\n",
              "      <td>X</td>\n",
              "    </tr>\n",
              "    <tr>\n",
              "      <th>244</th>\n",
              "      <td>Data Entry</td>\n",
              "      <td>Goods Received Return</td>\n",
              "      <td>X</td>\n",
              "      <td>X</td>\n",
              "      <td>X</td>\n",
              "      <td>X</td>\n",
              "    </tr>\n",
              "    <tr>\n",
              "      <th>245</th>\n",
              "      <td>Data Entry</td>\n",
              "      <td>Supplier Debit Note</td>\n",
              "      <td>X</td>\n",
              "      <td>X</td>\n",
              "      <td>X</td>\n",
              "      <td>X</td>\n",
              "    </tr>\n",
              "    <tr>\n",
              "      <th>633</th>\n",
              "      <td>Director</td>\n",
              "      <td>Month End Closing</td>\n",
              "      <td>X</td>\n",
              "      <td>X</td>\n",
              "      <td>X</td>\n",
              "      <td>X</td>\n",
              "    </tr>\n",
              "    <tr>\n",
              "      <th>636</th>\n",
              "      <td>Director</td>\n",
              "      <td>Management Reports</td>\n",
              "      <td>X</td>\n",
              "      <td>X</td>\n",
              "      <td>X</td>\n",
              "      <td>X</td>\n",
              "    </tr>\n",
              "    <tr>\n",
              "      <th>...</th>\n",
              "      <td>...</td>\n",
              "      <td>...</td>\n",
              "      <td>...</td>\n",
              "      <td>...</td>\n",
              "      <td>...</td>\n",
              "      <td>...</td>\n",
              "    </tr>\n",
              "    <tr>\n",
              "      <th>5645</th>\n",
              "      <td>RRMHW</td>\n",
              "      <td>User Defined Ex Column Assign Value</td>\n",
              "      <td>X</td>\n",
              "      <td>X</td>\n",
              "      <td>X</td>\n",
              "      <td>X</td>\n",
              "    </tr>\n",
              "    <tr>\n",
              "      <th>5647</th>\n",
              "      <td>RRMHW</td>\n",
              "      <td>Layout Master</td>\n",
              "      <td>X</td>\n",
              "      <td>X</td>\n",
              "      <td>X</td>\n",
              "      <td>X</td>\n",
              "    </tr>\n",
              "    <tr>\n",
              "      <th>5648</th>\n",
              "      <td>RRMHW</td>\n",
              "      <td>Layout Extra Columns</td>\n",
              "      <td>X</td>\n",
              "      <td>X</td>\n",
              "      <td>X</td>\n",
              "      <td>X</td>\n",
              "    </tr>\n",
              "    <tr>\n",
              "      <th>5649</th>\n",
              "      <td>RRMHW</td>\n",
              "      <td>Layout Extra Column Value</td>\n",
              "      <td>X</td>\n",
              "      <td>X</td>\n",
              "      <td>X</td>\n",
              "      <td>X</td>\n",
              "    </tr>\n",
              "    <tr>\n",
              "      <th>5650</th>\n",
              "      <td>RRMHW</td>\n",
              "      <td>Layout Extra Column Assign Values</td>\n",
              "      <td>X</td>\n",
              "      <td>X</td>\n",
              "      <td>X</td>\n",
              "      <td>X</td>\n",
              "    </tr>\n",
              "  </tbody>\n",
              "</table>\n",
              "<p>910 rows × 6 columns</p>\n",
              "</div>\n",
              "    <div class=\"colab-df-buttons\">\n",
              "\n",
              "  <div class=\"colab-df-container\">\n",
              "    <button class=\"colab-df-convert\" onclick=\"convertToInteractive('df-a035dc21-1d42-4844-a7d7-ac9103cf42c6')\"\n",
              "            title=\"Convert this dataframe to an interactive table.\"\n",
              "            style=\"display:none;\">\n",
              "\n",
              "  <svg xmlns=\"http://www.w3.org/2000/svg\" height=\"24px\" viewBox=\"0 -960 960 960\">\n",
              "    <path d=\"M120-120v-720h720v720H120Zm60-500h600v-160H180v160Zm220 220h160v-160H400v160Zm0 220h160v-160H400v160ZM180-400h160v-160H180v160Zm440 0h160v-160H620v160ZM180-180h160v-160H180v160Zm440 0h160v-160H620v160Z\"/>\n",
              "  </svg>\n",
              "    </button>\n",
              "\n",
              "  <style>\n",
              "    .colab-df-container {\n",
              "      display:flex;\n",
              "      gap: 12px;\n",
              "    }\n",
              "\n",
              "    .colab-df-convert {\n",
              "      background-color: #E8F0FE;\n",
              "      border: none;\n",
              "      border-radius: 50%;\n",
              "      cursor: pointer;\n",
              "      display: none;\n",
              "      fill: #1967D2;\n",
              "      height: 32px;\n",
              "      padding: 0 0 0 0;\n",
              "      width: 32px;\n",
              "    }\n",
              "\n",
              "    .colab-df-convert:hover {\n",
              "      background-color: #E2EBFA;\n",
              "      box-shadow: 0px 1px 2px rgba(60, 64, 67, 0.3), 0px 1px 3px 1px rgba(60, 64, 67, 0.15);\n",
              "      fill: #174EA6;\n",
              "    }\n",
              "\n",
              "    .colab-df-buttons div {\n",
              "      margin-bottom: 4px;\n",
              "    }\n",
              "\n",
              "    [theme=dark] .colab-df-convert {\n",
              "      background-color: #3B4455;\n",
              "      fill: #D2E3FC;\n",
              "    }\n",
              "\n",
              "    [theme=dark] .colab-df-convert:hover {\n",
              "      background-color: #434B5C;\n",
              "      box-shadow: 0px 1px 3px 1px rgba(0, 0, 0, 0.15);\n",
              "      filter: drop-shadow(0px 1px 2px rgba(0, 0, 0, 0.3));\n",
              "      fill: #FFFFFF;\n",
              "    }\n",
              "  </style>\n",
              "\n",
              "    <script>\n",
              "      const buttonEl =\n",
              "        document.querySelector('#df-a035dc21-1d42-4844-a7d7-ac9103cf42c6 button.colab-df-convert');\n",
              "      buttonEl.style.display =\n",
              "        google.colab.kernel.accessAllowed ? 'block' : 'none';\n",
              "\n",
              "      async function convertToInteractive(key) {\n",
              "        const element = document.querySelector('#df-a035dc21-1d42-4844-a7d7-ac9103cf42c6');\n",
              "        const dataTable =\n",
              "          await google.colab.kernel.invokeFunction('convertToInteractive',\n",
              "                                                    [key], {});\n",
              "        if (!dataTable) return;\n",
              "\n",
              "        const docLinkHtml = 'Like what you see? Visit the ' +\n",
              "          '<a target=\"_blank\" href=https://colab.research.google.com/notebooks/data_table.ipynb>data table notebook</a>'\n",
              "          + ' to learn more about interactive tables.';\n",
              "        element.innerHTML = '';\n",
              "        dataTable['output_type'] = 'display_data';\n",
              "        await google.colab.output.renderOutput(dataTable, element);\n",
              "        const docLink = document.createElement('div');\n",
              "        docLink.innerHTML = docLinkHtml;\n",
              "        element.appendChild(docLink);\n",
              "      }\n",
              "    </script>\n",
              "  </div>\n",
              "\n",
              "\n",
              "<div id=\"df-514cf69f-e4a4-414c-a3bb-b99d27e38657\">\n",
              "  <button class=\"colab-df-quickchart\" onclick=\"quickchart('df-514cf69f-e4a4-414c-a3bb-b99d27e38657')\"\n",
              "            title=\"Suggest charts\"\n",
              "            style=\"display:none;\">\n",
              "\n",
              "<svg xmlns=\"http://www.w3.org/2000/svg\" height=\"24px\"viewBox=\"0 0 24 24\"\n",
              "     width=\"24px\">\n",
              "    <g>\n",
              "        <path d=\"M19 3H5c-1.1 0-2 .9-2 2v14c0 1.1.9 2 2 2h14c1.1 0 2-.9 2-2V5c0-1.1-.9-2-2-2zM9 17H7v-7h2v7zm4 0h-2V7h2v10zm4 0h-2v-4h2v4z\"/>\n",
              "    </g>\n",
              "</svg>\n",
              "  </button>\n",
              "\n",
              "<style>\n",
              "  .colab-df-quickchart {\n",
              "      --bg-color: #E8F0FE;\n",
              "      --fill-color: #1967D2;\n",
              "      --hover-bg-color: #E2EBFA;\n",
              "      --hover-fill-color: #174EA6;\n",
              "      --disabled-fill-color: #AAA;\n",
              "      --disabled-bg-color: #DDD;\n",
              "  }\n",
              "\n",
              "  [theme=dark] .colab-df-quickchart {\n",
              "      --bg-color: #3B4455;\n",
              "      --fill-color: #D2E3FC;\n",
              "      --hover-bg-color: #434B5C;\n",
              "      --hover-fill-color: #FFFFFF;\n",
              "      --disabled-bg-color: #3B4455;\n",
              "      --disabled-fill-color: #666;\n",
              "  }\n",
              "\n",
              "  .colab-df-quickchart {\n",
              "    background-color: var(--bg-color);\n",
              "    border: none;\n",
              "    border-radius: 50%;\n",
              "    cursor: pointer;\n",
              "    display: none;\n",
              "    fill: var(--fill-color);\n",
              "    height: 32px;\n",
              "    padding: 0;\n",
              "    width: 32px;\n",
              "  }\n",
              "\n",
              "  .colab-df-quickchart:hover {\n",
              "    background-color: var(--hover-bg-color);\n",
              "    box-shadow: 0 1px 2px rgba(60, 64, 67, 0.3), 0 1px 3px 1px rgba(60, 64, 67, 0.15);\n",
              "    fill: var(--button-hover-fill-color);\n",
              "  }\n",
              "\n",
              "  .colab-df-quickchart-complete:disabled,\n",
              "  .colab-df-quickchart-complete:disabled:hover {\n",
              "    background-color: var(--disabled-bg-color);\n",
              "    fill: var(--disabled-fill-color);\n",
              "    box-shadow: none;\n",
              "  }\n",
              "\n",
              "  .colab-df-spinner {\n",
              "    border: 2px solid var(--fill-color);\n",
              "    border-color: transparent;\n",
              "    border-bottom-color: var(--fill-color);\n",
              "    animation:\n",
              "      spin 1s steps(1) infinite;\n",
              "  }\n",
              "\n",
              "  @keyframes spin {\n",
              "    0% {\n",
              "      border-color: transparent;\n",
              "      border-bottom-color: var(--fill-color);\n",
              "      border-left-color: var(--fill-color);\n",
              "    }\n",
              "    20% {\n",
              "      border-color: transparent;\n",
              "      border-left-color: var(--fill-color);\n",
              "      border-top-color: var(--fill-color);\n",
              "    }\n",
              "    30% {\n",
              "      border-color: transparent;\n",
              "      border-left-color: var(--fill-color);\n",
              "      border-top-color: var(--fill-color);\n",
              "      border-right-color: var(--fill-color);\n",
              "    }\n",
              "    40% {\n",
              "      border-color: transparent;\n",
              "      border-right-color: var(--fill-color);\n",
              "      border-top-color: var(--fill-color);\n",
              "    }\n",
              "    60% {\n",
              "      border-color: transparent;\n",
              "      border-right-color: var(--fill-color);\n",
              "    }\n",
              "    80% {\n",
              "      border-color: transparent;\n",
              "      border-right-color: var(--fill-color);\n",
              "      border-bottom-color: var(--fill-color);\n",
              "    }\n",
              "    90% {\n",
              "      border-color: transparent;\n",
              "      border-bottom-color: var(--fill-color);\n",
              "    }\n",
              "  }\n",
              "</style>\n",
              "\n",
              "  <script>\n",
              "    async function quickchart(key) {\n",
              "      const quickchartButtonEl =\n",
              "        document.querySelector('#' + key + ' button');\n",
              "      quickchartButtonEl.disabled = true;  // To prevent multiple clicks.\n",
              "      quickchartButtonEl.classList.add('colab-df-spinner');\n",
              "      try {\n",
              "        const charts = await google.colab.kernel.invokeFunction(\n",
              "            'suggestCharts', [key], {});\n",
              "      } catch (error) {\n",
              "        console.error('Error during call to suggestCharts:', error);\n",
              "      }\n",
              "      quickchartButtonEl.classList.remove('colab-df-spinner');\n",
              "      quickchartButtonEl.classList.add('colab-df-quickchart-complete');\n",
              "    }\n",
              "    (() => {\n",
              "      let quickchartButtonEl =\n",
              "        document.querySelector('#df-514cf69f-e4a4-414c-a3bb-b99d27e38657 button');\n",
              "      quickchartButtonEl.style.display =\n",
              "        google.colab.kernel.accessAllowed ? 'block' : 'none';\n",
              "    })();\n",
              "  </script>\n",
              "</div>\n",
              "\n",
              "    </div>\n",
              "  </div>\n"
            ],
            "application/vnd.google.colaboratory.intrinsic+json": {
              "type": "dataframe",
              "summary": "{\n  \"name\": \"df\",\n  \"rows\": 910,\n  \"fields\": [\n    {\n      \"column\": \"AuthorizationGroupName\",\n      \"properties\": {\n        \"dtype\": \"category\",\n        \"num_unique_values\": 12,\n        \"samples\": [\n          \"MHW\",\n          \"Manager (S)\",\n          \"Data Entry\"\n        ],\n        \"semantic_type\": \"\",\n        \"description\": \"\"\n      }\n    },\n    {\n      \"column\": \"pageName\",\n      \"properties\": {\n        \"dtype\": \"category\",\n        \"num_unique_values\": 283,\n        \"samples\": [\n          \"Account Type\",\n          \"Journal Types\",\n          \"Import Bank Statement Excel\"\n        ],\n        \"semantic_type\": \"\",\n        \"description\": \"\"\n      }\n    },\n    {\n      \"column\": \"Add\",\n      \"properties\": {\n        \"dtype\": \"category\",\n        \"num_unique_values\": 1,\n        \"samples\": [\n          \"X\"\n        ],\n        \"semantic_type\": \"\",\n        \"description\": \"\"\n      }\n    },\n    {\n      \"column\": \"Edit\",\n      \"properties\": {\n        \"dtype\": \"category\",\n        \"num_unique_values\": 1,\n        \"samples\": [\n          \"X\"\n        ],\n        \"semantic_type\": \"\",\n        \"description\": \"\"\n      }\n    },\n    {\n      \"column\": \"Delete\",\n      \"properties\": {\n        \"dtype\": \"category\",\n        \"num_unique_values\": 1,\n        \"samples\": [\n          \"X\"\n        ],\n        \"semantic_type\": \"\",\n        \"description\": \"\"\n      }\n    },\n    {\n      \"column\": \"Browse\",\n      \"properties\": {\n        \"dtype\": \"category\",\n        \"num_unique_values\": 1,\n        \"samples\": [\n          \"X\"\n        ],\n        \"semantic_type\": \"\",\n        \"description\": \"\"\n      }\n    }\n  ]\n}"
            }
          },
          "metadata": {},
          "execution_count": 20
        }
      ]
    },
    {
      "cell_type": "code",
      "source": [
        "num_rows = len(df) #number of rows\n",
        "num_col = len(df.columns) # number of columns\n",
        "print(f\"This DataFrame has {num_rows} rows and {num_col} columns.\")"
      ],
      "metadata": {
        "colab": {
          "base_uri": "https://localhost:8080/"
        },
        "id": "yULRQlJku-2M",
        "outputId": "92805953-7869-45a5-c959-343351f8dd3a"
      },
      "execution_count": 21,
      "outputs": [
        {
          "output_type": "stream",
          "name": "stdout",
          "text": [
            "This DataFrame has 5676 rows and 6 columns.\n"
          ]
        }
      ]
    },
    {
      "cell_type": "code",
      "source": [
        "unique_group_names = df['AuthorizationGroupName'].unique()\n",
        "print(unique_group_names)\n"
      ],
      "metadata": {
        "colab": {
          "base_uri": "https://localhost:8080/"
        },
        "id": "EGYPJYgQw320",
        "outputId": "015f9fff-d3b0-4561-e537-0fc18ab6fe1b"
      },
      "execution_count": 22,
      "outputs": [
        {
          "output_type": "stream",
          "name": "stdout",
          "text": [
            "['Data Entry' 'Director' 'Executive' 'Executive (Acc)' 'Executive (P)'\n",
            " 'IT' 'Manager' 'Manager (Acc)' 'Manager (P)' 'Manager (S)' 'MHW' 'RRMHW']\n"
          ]
        }
      ]
    },
    {
      "cell_type": "code",
      "source": [
        "unique_group_names = df['AuthorizationGroupName'].unique()\n",
        "for group_name in unique_group_names:\n",
        "    print(group_name)\n"
      ],
      "metadata": {
        "colab": {
          "base_uri": "https://localhost:8080/"
        },
        "id": "kv0Vo9JLyDY1",
        "outputId": "bb78a1cf-07a6-4627-c035-edf2647c7f5f"
      },
      "execution_count": 23,
      "outputs": [
        {
          "output_type": "stream",
          "name": "stdout",
          "text": [
            "Data Entry\n",
            "Director\n",
            "Executive\n",
            "Executive (Acc)\n",
            "Executive (P)\n",
            "IT\n",
            "Manager\n",
            "Manager (Acc)\n",
            "Manager (P)\n",
            "Manager (S)\n",
            "MHW\n",
            "RRMHW\n"
          ]
        }
      ]
    },
    {
      "cell_type": "code",
      "source": [
        "unique_group_names = df['AuthorizationGroupName'].unique()\n",
        "for group_name in unique_group_names:\n",
        "    if 'Data Entry' in group_name:\n",
        "        print(group_name)\n"
      ],
      "metadata": {
        "colab": {
          "base_uri": "https://localhost:8080/"
        },
        "id": "1Us4RI9Fyn-T",
        "outputId": "04ff0688-4115-4654-f78e-5e6f43be52db"
      },
      "execution_count": 24,
      "outputs": [
        {
          "output_type": "stream",
          "name": "stdout",
          "text": [
            "Data Entry\n"
          ]
        }
      ]
    },
    {
      "cell_type": "code",
      "source": [
        "print(type(df))"
      ],
      "metadata": {
        "colab": {
          "base_uri": "https://localhost:8080/"
        },
        "id": "jNrUemM1yS-i",
        "outputId": "13b2e842-1cef-4662-c1c3-e6732d5f53f0"
      },
      "execution_count": 51,
      "outputs": [
        {
          "output_type": "stream",
          "name": "stdout",
          "text": [
            "<class 'pandas.core.frame.DataFrame'>\n"
          ]
        }
      ]
    },
    {
      "cell_type": "code",
      "source": [
        "# Data Entry\n",
        "\n",
        "# Specify the four columns\n",
        "specified_columns = ['Add', 'Edit', 'Delete', 'Browse']\n",
        "data_entry_rows = df[df['AuthorizationGroupName'] == 'Data Entry']\n",
        "mask = data_entry_rows[specified_columns].notnull().any(axis=1)\n",
        "filtered_data_entry_rows = data_entry_rows[mask]\n",
        "total_data_entry_rows = filtered_data_entry_rows.shape[0]\n",
        "print(\"Total number of rows detected for 'Data Entry':\", total_data_entry_rows)\n",
        "filtered_data_entry_rows.to_excel('/content/drive/MyDrive/ylyee/Data Entry.xlsx', index=False)\n"
      ],
      "metadata": {
        "colab": {
          "base_uri": "https://localhost:8080/"
        },
        "id": "HhtVRD6CA7XJ",
        "outputId": "b8ae4542-341f-4eca-9eb7-e91fc7c6838e"
      },
      "execution_count": 35,
      "outputs": [
        {
          "output_type": "stream",
          "name": "stdout",
          "text": [
            "Total number of rows detected for 'Data Entry': 7\n"
          ]
        }
      ]
    },
    {
      "cell_type": "code",
      "source": [
        "# Executive\n",
        "\n",
        "# Specify the four columns\n",
        "specified_columns = ['Add', 'Edit', 'Delete', 'Browse']\n",
        "\n",
        "# Filter the DataFrame to include only 'Data Entry' group\n",
        "executive_rows = df[df['AuthorizationGroupName'] == 'Executive']\n",
        "mask = executive_rows[specified_columns].notnull().any(axis=1)\n",
        "filtered_executive_rows = executive_rows[mask]\n",
        "\n",
        "total_executive_rows = filtered_executive_rows.shape[0]\n",
        "print(\"Total number of rows detected for 'Executive':\", total_executive_rows)\n",
        "filtered_executive_rows.to_excel('/content/drive/MyDrive/ylyee/Executive.xlsx', index=False)\n"
      ],
      "metadata": {
        "colab": {
          "base_uri": "https://localhost:8080/"
        },
        "id": "XrPDJCCi_kV2",
        "outputId": "eed8b7d5-4016-4ecf-d5f3-ad4ff1d89651"
      },
      "execution_count": 31,
      "outputs": [
        {
          "output_type": "stream",
          "name": "stdout",
          "text": [
            "Total number of rows detected for 'Data Entry': 23\n"
          ]
        }
      ]
    },
    {
      "cell_type": "code",
      "source": [
        "# Executive (Acc)\n",
        "\n",
        "# Specify the four columns\n",
        "specified_columns = ['Add', 'Edit', 'Delete', 'Browse']\n",
        "\n",
        "executive_Acc_rows = df[df['AuthorizationGroupName'] == 'Executive (Acc)']\n",
        "mask = executive_Acc_rows[specified_columns].notnull().any(axis=1)\n",
        "filtered_executive_Acc_rows = executive_Acc_rows[mask]\n",
        "total_executive_Acc_rows = filtered_executive_Acc_rows.shape[0]\n",
        "print(\"Total number of rows detected for 'Executive (Acc)':\", total_executive_Acc_rows)\n",
        "filtered_executive_Acc_rows.to_excel('/content/drive/MyDrive/ylyee/Executive(Acc).xlsx', index=False)\n"
      ],
      "metadata": {
        "colab": {
          "base_uri": "https://localhost:8080/"
        },
        "id": "DvGouqkNAg6Y",
        "outputId": "c5ea4b2c-22b6-4e8a-f454-7cddad1cba95"
      },
      "execution_count": 32,
      "outputs": [
        {
          "output_type": "stream",
          "name": "stdout",
          "text": [
            "Total number of rows detected for 'Data Entry': 187\n"
          ]
        }
      ]
    },
    {
      "cell_type": "code",
      "source": [
        "# Executive (P)\n",
        "\n",
        "# Specify the four columns\n",
        "specified_columns = ['Add', 'Edit', 'Delete', 'Browse']\n",
        "\n",
        "executive_P_rows = df[df['AuthorizationGroupName'] == 'Executive (P)']\n",
        "mask = executive_P_rows[specified_columns].notnull().any(axis=1)\n",
        "filtered_executive_P_rows = executive_P_rows[mask]\n",
        "\n",
        "total_executive_P_rows = filtered_executive_P_rows.shape[0]\n",
        "print(\"Total number of rows detected for 'Executive (P)':\", total_executive_P_rows)\n",
        "filtered_executive_P_rows.to_excel('/content/drive/MyDrive/ylyee/Executive(P).xlsx', index=False)\n"
      ],
      "metadata": {
        "colab": {
          "base_uri": "https://localhost:8080/"
        },
        "id": "yFZ3FujwAsFZ",
        "outputId": "725f40b8-1445-4b0f-9076-d6bff14d200c"
      },
      "execution_count": 34,
      "outputs": [
        {
          "output_type": "stream",
          "name": "stdout",
          "text": [
            "Total number of rows detected for 'Executive (P)': 5\n"
          ]
        }
      ]
    },
    {
      "cell_type": "code",
      "source": [
        "# Manager\n",
        "\n",
        "# Specify the four columns\n",
        "specified_columns = ['Add', 'Edit', 'Delete', 'Browse']\n",
        "manager_rows = df[df['AuthorizationGroupName'] == 'Manager']\n",
        "mask = manager_rows[specified_columns].notnull().any(axis=1)\n",
        "filtered_manager_rows = manager_rows[mask]\n",
        "total_manager_rows = filtered_manager_rows.shape[0]\n",
        "print(\"Total number of rows detected for 'Manager':\", total_manager_rows)\n",
        "filtered_manager_rows.to_excel('/content/drive/MyDrive/ylyee/Manager.xlsx', index=False)\n"
      ],
      "metadata": {
        "colab": {
          "base_uri": "https://localhost:8080/"
        },
        "id": "Yy_0ycn4BsAO",
        "outputId": "1409a322-16c8-4a7e-f5de-b80141ac2e7c"
      },
      "execution_count": 36,
      "outputs": [
        {
          "output_type": "stream",
          "name": "stdout",
          "text": [
            "Total number of rows detected for 'Manager': 43\n"
          ]
        }
      ]
    },
    {
      "cell_type": "code",
      "source": [
        "# Manager (Acc)\n",
        "\n",
        "# Specify the four columns\n",
        "specified_columns = ['Add', 'Edit', 'Delete', 'Browse']\n",
        "manager_Acc_rows = df[df['AuthorizationGroupName'] == 'Manager (Acc)']\n",
        "mask = manager_Acc_rows[specified_columns].notnull().any(axis=1)\n",
        "filtered_manager_Acc_rows = manager_Acc_rows[mask]\n",
        "total_manager_Acc_rows = filtered_manager_Acc_rows.shape[0]\n",
        "print(\"Total number of rows detected for 'Manager (Acc)':\", total_manager_Acc_rows)\n",
        "filtered_manager_Acc_rows.to_excel('/content/drive/MyDrive/ylyee/Manager(Acc).xlsx', index=False)\n"
      ],
      "metadata": {
        "colab": {
          "base_uri": "https://localhost:8080/"
        },
        "id": "N36MPYLEB_uy",
        "outputId": "a6d2ab00-a9a7-4316-f605-0123ddcbcf2c"
      },
      "execution_count": 43,
      "outputs": [
        {
          "output_type": "stream",
          "name": "stdout",
          "text": [
            "Total number of rows detected for 'Manager (Acc)': 187\n"
          ]
        }
      ]
    },
    {
      "cell_type": "code",
      "source": [
        "# Manager (P)\n",
        "\n",
        "# Specify the four columns\n",
        "specified_columns = ['Add', 'Edit', 'Delete', 'Browse']\n",
        "manager_P_rows = df[df['AuthorizationGroupName'] == 'Manager (P)']\n",
        "mask = manager_P_rows[specified_columns].notnull().any(axis=1)\n",
        "filtered_manager_P_rows = manager_P_rows[mask]\n",
        "total_manager_P_rows = filtered_manager_P_rows.shape[0]\n",
        "print(\"Total number of rows detected for 'Manager (P)':\", total_manager_P_rows)\n",
        "filtered_manager_P_rows.to_excel('/content/drive/MyDrive/ylyee/Manager(P).xlsx', index=False)\n"
      ],
      "metadata": {
        "colab": {
          "base_uri": "https://localhost:8080/"
        },
        "id": "Gaob0Sp9ErM5",
        "outputId": "19420124-8c71-48e4-d9eb-72ab6cf34f91"
      },
      "execution_count": 45,
      "outputs": [
        {
          "output_type": "stream",
          "name": "stdout",
          "text": [
            "Total number of rows detected for 'Manager (P)': 56\n"
          ]
        }
      ]
    },
    {
      "cell_type": "code",
      "source": [
        "# Manager (S)\n",
        "\n",
        "# Specify the four columns\n",
        "specified_columns = ['Add', 'Edit', 'Delete', 'Browse']\n",
        "manager_S_rows = df[df['AuthorizationGroupName'] == 'Manager (S)']\n",
        "mask = manager_S_rows[specified_columns].notnull().any(axis=1)\n",
        "filtered_manager_S_rows = manager_S_rows[mask]\n",
        "total_manager_S_rows = filtered_manager_S_rows.shape[0]\n",
        "print(\"Total number of rows detected for 'Manager (S)':\", total_manager_S_rows)\n",
        "filtered_manager_S_rows.to_excel('/content/drive/MyDrive/ylyee/Manager(S).xlsx', index=False)\n"
      ],
      "metadata": {
        "colab": {
          "base_uri": "https://localhost:8080/"
        },
        "id": "IzNYV095E8F3",
        "outputId": "e94c3e13-ba81-45b3-9336-09574d5c7d52"
      },
      "execution_count": 49,
      "outputs": [
        {
          "output_type": "stream",
          "name": "stdout",
          "text": [
            "Total number of rows detected for 'Manager (S)': 32\n"
          ]
        }
      ]
    },
    {
      "cell_type": "code",
      "source": [
        "# IT\n",
        "\n",
        "# Specify the four columns\n",
        "specified_columns = ['Add', 'Edit', 'Delete', 'Browse']\n",
        "it_rows = df[df['AuthorizationGroupName'] == 'IT']\n",
        "mask = it_rows[specified_columns].notnull().any(axis=1)\n",
        "filtered_it_rows = it_rows[mask]\n",
        "total_it_rows = filtered_it_rows.shape[0]\n",
        "print(\"Total number of rows detected for 'IT':\", total_it_rows)\n",
        "filtered_it_rows .to_excel('/content/drive/MyDrive/ylyee/IT.xlsx', index=False)"
      ],
      "metadata": {
        "colab": {
          "base_uri": "https://localhost:8080/"
        },
        "id": "Bp5kUKAMFOu7",
        "outputId": "21b107de-e5d5-4603-cc93-0127d92df1d3"
      },
      "execution_count": 48,
      "outputs": [
        {
          "output_type": "stream",
          "name": "stdout",
          "text": [
            "Total number of rows detected for 'IT': 14\n"
          ]
        }
      ]
    }
  ]
}